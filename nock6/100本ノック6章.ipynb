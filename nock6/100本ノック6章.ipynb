{
  "nbformat": 4,
  "nbformat_minor": 0,
  "metadata": {
    "colab": {
      "name": "Untitled7.ipynb",
      "provenance": [],
      "collapsed_sections": []
    },
    "kernelspec": {
      "name": "python3",
      "display_name": "Python 3"
    },
    "language_info": {
      "name": "python"
    }
  },
  "cells": [
    {
      "cell_type": "code",
      "execution_count": 2,
      "metadata": {
        "colab": {
          "base_uri": "https://localhost:8080/"
        },
        "id": "lB5TKkpc_6Zw",
        "outputId": "a0e8a51d-e00b-43da-bda1-a83726a7626e"
      },
      "outputs": [
        {
          "output_type": "stream",
          "name": "stdout",
          "text": [
            "12         Europe reaches crunch point on banking union\n",
            "13    ECB FOCUS-Stronger euro drowns out ECB's messa...\n",
            "19    Euro Anxieties Wane as Bunds Top Treasuries, S...\n",
            "20    Noyer Says Strong Euro Creates Unwarranted Eco...\n",
            "29    REFILE-Bad loan triggers key feature in ECB ba...\n",
            "Name: TITLE, dtype: object\n",
            "train\n",
            "b\t 4485\n",
            "t\t 1247\n",
            "e\t 4230\n",
            "m\t 710\n",
            "\n",
            "valid\n",
            "b\t 552\n",
            "t\t 147\n",
            "e\t 523\n",
            "m\t 112\n"
          ]
        }
      ],
      "source": [
        "#第6章 50\n",
        "import pandas as pd\n",
        "from sklearn.model_selection import train_test_split\n",
        "\n",
        "df = pd.read_csv('newsCorpora.csv', sep = \"\\t\", names=[\"ID\",\"TITLE\",\"URL\",\"PUBLISHER\",\"CATEGORY\",\"STORY\",\"HOSTNAME\",\"TIMESTAMP\"])\n",
        "df = df[(df[\"PUBLISHER\"] == \"Reuters\") | (df[\"PUBLISHER\"] == \"Huffington Post\") | (df[\"PUBLISHER\"] == \"Businessweek\") | (df[\"PUBLISHER\"] == \"Contactmusic.com\") | (df[\"PUBLISHER\"] == \"Daily Mail\")]\n",
        "df1 = df[[\"TITLE\", \"CATEGORY\"]]\n",
        "df2 = df1.replace('\"', '')\n",
        "\n",
        "print(df1[\"TITLE\"].head(5))\n",
        "\n",
        "train, valid = train_test_split(df2, test_size=0.2)\n",
        "valid, test = train_test_split(valid, test_size=0.5)\n",
        "\n",
        "\n",
        "train.to_csv('train.txt', sep='\\t', index=False)\n",
        "valid.to_csv('valid.txt', sep='\\t', index=False)\n",
        "test.to_csv('test.txt', sep='\\t', index=False)\n",
        "\n",
        "print(\"train\")\n",
        "print(\"b\" + \"\\t\", len(train[train[\"CATEGORY\"] == \"b\"]))\n",
        "print(\"t\" + \"\\t\", len(train[train[\"CATEGORY\"] == \"t\"]))\n",
        "print(\"e\" + \"\\t\", len(train[train[\"CATEGORY\"] == \"e\"]))\n",
        "print(\"m\" + \"\\t\", len(train[train[\"CATEGORY\"] == \"m\"]))\n",
        "\n",
        "print(\"\\n\" + \"valid\")\n",
        "print(\"b\" + \"\\t\", len(valid[valid[\"CATEGORY\"] == \"b\"]))\n",
        "print(\"t\" + \"\\t\", len(valid[valid[\"CATEGORY\"] == \"t\"]))\n",
        "print(\"e\" + \"\\t\", len(valid[valid[\"CATEGORY\"] == \"e\"]))\n",
        "print(\"m\" + \"\\t\", len(valid[valid[\"CATEGORY\"] == \"m\"]))"
      ]
    },
    {
      "cell_type": "code",
      "source": [
        "#第6章 51\n",
        "from sklearn.feature_extraction.text import TfidfVectorizer\n",
        "def feature(corpus):\n",
        "  vectorizer = TfidfVectorizer()\n",
        "  X = vectorizer.fit_transform(corpus)\n",
        "  return pd.DataFrame(X.toarray(), columns=vectorizer.get_feature_names())\n",
        "\n",
        "df_a = pd.concat([feature(train[\"TITLE\"]), feature(valid[\"TITLE\"]), feature(test[\"TITLE\"])])\n",
        "df_ac = df_a.fillna(0)\n",
        "\n",
        "train_l, valid_l = train_test_split(df_ac, test_size=0.2, shuffle=False)\n",
        "valid_l, test_l = train_test_split(valid_l, test_size=0.5, shuffle=False)\n",
        "\n",
        "train_l.to_csv('train.feature.txt', sep='\\t', index=False)\n",
        "valid_l.to_csv('valid.feature.txt', sep='\\t', index=False)\n",
        "test_l.to_csv('test.feature.txt', sep='\\t', index=False)\n",
        "\n",
        "print(valid_l)"
      ],
      "metadata": {
        "colab": {
          "base_uri": "https://localhost:8080/"
        },
        "id": "ue5TDPerK9Tc",
        "outputId": "31d4f521-a9ad-4ea9-baa9-90b1c0f7a99d"
      },
      "execution_count": 3,
      "outputs": [
        {
          "output_type": "stream",
          "name": "stderr",
          "text": [
            "/usr/local/lib/python3.7/dist-packages/sklearn/utils/deprecation.py:87: FutureWarning: Function get_feature_names is deprecated; get_feature_names is deprecated in 1.0 and will be removed in 1.2. Please use get_feature_names_out instead.\n",
            "  warnings.warn(msg, category=FutureWarning)\n",
            "/usr/local/lib/python3.7/dist-packages/sklearn/utils/deprecation.py:87: FutureWarning: Function get_feature_names is deprecated; get_feature_names is deprecated in 1.0 and will be removed in 1.2. Please use get_feature_names_out instead.\n",
            "  warnings.warn(msg, category=FutureWarning)\n",
            "/usr/local/lib/python3.7/dist-packages/sklearn/utils/deprecation.py:87: FutureWarning: Function get_feature_names is deprecated; get_feature_names is deprecated in 1.0 and will be removed in 1.2. Please use get_feature_names_out instead.\n",
            "  warnings.warn(msg, category=FutureWarning)\n"
          ]
        },
        {
          "output_type": "stream",
          "name": "stdout",
          "text": [
            "       00   05   08   09  0ff   10  100  1000  10000  100000  ...  \\\n",
            "0     0.0  0.0  0.0  0.0  0.0  0.0  0.0   0.0    0.0     0.0  ...   \n",
            "1     0.0  0.0  0.0  0.0  0.0  0.0  0.0   0.0    0.0     0.0  ...   \n",
            "2     0.0  0.0  0.0  0.0  0.0  0.0  0.0   0.0    0.0     0.0  ...   \n",
            "3     0.0  0.0  0.0  0.0  0.0  0.0  0.0   0.0    0.0     0.0  ...   \n",
            "4     0.0  0.0  0.0  0.0  0.0  0.0  0.0   0.0    0.0     0.0  ...   \n",
            "...   ...  ...  ...  ...  ...  ...  ...   ...    ...     ...  ...   \n",
            "1329  0.0  0.0  0.0  0.0  0.0  0.0  0.0   0.0    0.0     0.0  ...   \n",
            "1330  0.0  0.0  0.0  0.0  0.0  0.0  0.0   0.0    0.0     0.0  ...   \n",
            "1331  0.0  0.0  0.0  0.0  0.0  0.0  0.0   0.0    0.0     0.0  ...   \n",
            "1332  0.0  0.0  0.0  0.0  0.0  0.0  0.0   0.0    0.0     0.0  ...   \n",
            "1333  0.0  0.0  0.0  0.0  0.0  0.0  0.0   0.0    0.0     0.0  ...   \n",
            "\n",
            "      worldsmosttalkedaboutcouple  wounds  wrestles  wristband  wrongdoing  \\\n",
            "0                             0.0     0.0       0.0        0.0         0.0   \n",
            "1                             0.0     0.0       0.0        0.0         0.0   \n",
            "2                             0.0     0.0       0.0        0.0         0.0   \n",
            "3                             0.0     0.0       0.0        0.0         0.0   \n",
            "4                             0.0     0.0       0.0        0.0         0.0   \n",
            "...                           ...     ...       ...        ...         ...   \n",
            "1329                          0.0     0.0       0.0        0.0         0.0   \n",
            "1330                          0.0     0.0       0.0        0.0         0.0   \n",
            "1331                          0.0     0.0       0.0        0.0         0.0   \n",
            "1332                          0.0     0.0       0.0        0.0         0.0   \n",
            "1333                          0.0     0.0       0.0        0.0         0.0   \n",
            "\n",
            "      xing  xstrata  ysidro  zimmerman  zloty  \n",
            "0      0.0      0.0     0.0        0.0    0.0  \n",
            "1      0.0      0.0     0.0        0.0    0.0  \n",
            "2      0.0      0.0     0.0        0.0    0.0  \n",
            "3      0.0      0.0     0.0        0.0    0.0  \n",
            "4      0.0      0.0     0.0        0.0    0.0  \n",
            "...    ...      ...     ...        ...    ...  \n",
            "1329   0.0      0.0     0.0        0.0    0.0  \n",
            "1330   0.0      0.0     0.0        0.0    0.0  \n",
            "1331   0.0      0.0     0.0        0.0    0.0  \n",
            "1332   0.0      0.0     0.0        0.0    0.0  \n",
            "1333   0.0      0.0     0.0        0.0    0.0  \n",
            "\n",
            "[1334 rows x 14039 columns]\n"
          ]
        }
      ]
    },
    {
      "cell_type": "code",
      "source": [
        "#第6章 52\n",
        "from sklearn.linear_model import LogisticRegression\n",
        "lr = LogisticRegression()\n",
        "lr.fit(train_l, train[\"CATEGORY\"])"
      ],
      "metadata": {
        "colab": {
          "base_uri": "https://localhost:8080/"
        },
        "id": "JaTad0ZxcShR",
        "outputId": "7037e250-3bdc-45c1-a590-4402192c055b"
      },
      "execution_count": 6,
      "outputs": [
        {
          "output_type": "execute_result",
          "data": {
            "text/plain": [
              "LogisticRegression()"
            ]
          },
          "metadata": {},
          "execution_count": 6
        }
      ]
    },
    {
      "cell_type": "code",
      "source": [
        "#第6章 53\n",
        "import numpy as np\n",
        "Y_pred = lr.predict(train_l)\n",
        "Y_pred_brob = lr.predict_proba(train_l)\n",
        "train_re = train.reset_index(drop=True)\n",
        "index = 0\n",
        "prob_train_list = []\n",
        "for i in Y_pred_brob:\n",
        "  if train_re.at[train_re.index[index], \"CATEGORY\"] == \"b\":\n",
        "    prob_train_list.append(i[0])\n",
        "  elif train_re.at[train_re.index[index], \"CATEGORY\"] == \"e\":\n",
        "    prob_train_list.append(i[1])\n",
        "  elif train_re.at[train_re.index[index], \"CATEGORY\"] == \"m\":\n",
        "    prob_train_list.append(i[2])\n",
        "  else:\n",
        "    prob_train_list.append(i[3])\n",
        "  index += 1\n",
        "\n",
        "prob_c_train_list = []\n",
        "for i in Y_pred_brob:\n",
        "  if np.max(i) == i[0]:\n",
        "    prob_c_train_list.append(\"b\")\n",
        "  elif np.max(i) == i[1]:\n",
        "    prob_c_train_list.append(\"e\")\n",
        "  elif np.max(i) == i[2]:\n",
        "    prob_c_train_list.append(\"m\")\n",
        "  else:\n",
        "    prob_c_train_list.append(\"t\")\n",
        "\n",
        "print(Y_pred, prob_c_train_list[0:3])\n",
        "print(Y_pred, prob_train_list[0:3])\n",
        "print(Y_pred, Y_pred_brob)\n",
        "print(Y_pred, np.max(Y_pred_brob, axis = 1))"
      ],
      "metadata": {
        "colab": {
          "base_uri": "https://localhost:8080/"
        },
        "id": "UY23HmKkt-Hx",
        "outputId": "9f52a1db-cd06-47bd-83f7-b11c1c33cbd1"
      },
      "execution_count": 8,
      "outputs": [
        {
          "output_type": "stream",
          "name": "stdout",
          "text": [
            "['b' 't' 't' ... 'e' 'b' 'b'] ['b', 't', 't']\n",
            "['b' 't' 't' ... 'e' 'b' 'b'] [0.9524042397818546, 0.6277315413593133, 0.6277373533280736]\n",
            "['b' 't' 't' ... 'e' 'b' 'b'] [[0.95240424 0.01568435 0.00961201 0.0222994 ]\n",
            " [0.21804812 0.11021258 0.04400776 0.62773154]\n",
            " [0.26422838 0.08302055 0.02501371 0.62773735]\n",
            " ...\n",
            " [0.0512881  0.89796175 0.01970877 0.03104138]\n",
            " [0.93226458 0.01502006 0.01571787 0.03699749]\n",
            " [0.96126828 0.01225094 0.00745969 0.0190211 ]]\n",
            "['b' 't' 't' ... 'e' 'b' 'b'] [0.95240424 0.62773154 0.62773735 ... 0.89796175 0.93226458 0.96126828]\n"
          ]
        }
      ]
    },
    {
      "cell_type": "code",
      "source": [
        "#第6章 53\n",
        "Y_pred = lr.predict(test_l)\n",
        "Y_pred_brob = lr.predict_proba(test_l)\n",
        "test_re = test.reset_index(drop=True)\n",
        "index = 0\n",
        "prob_list = []\n",
        "for i in Y_pred_brob:\n",
        "  if test_re.at[test_re.index[index], \"CATEGORY\"] == \"b\":\n",
        "    prob_list.append(i[0])\n",
        "  elif test_re.at[test_re.index[index], \"CATEGORY\"] == \"e\":\n",
        "    prob_list.append(i[1])\n",
        "  elif test_re.at[test_re.index[index], \"CATEGORY\"] == \"m\":\n",
        "    prob_list.append(i[2])\n",
        "  else:\n",
        "    prob_list.append(i[3])\n",
        "  index += 1\n",
        "\n",
        "prob_c_list = []\n",
        "for i in Y_pred_brob:\n",
        "  if np.max(i) == i[0]:\n",
        "    prob_c_list.append(\"b\")\n",
        "  elif np.max(i) == i[1]:\n",
        "    prob_c_list.append(\"e\")\n",
        "  elif np.max(i) == i[2]:\n",
        "    prob_c_list.append(\"m\")\n",
        "  else:\n",
        "    prob_c_list.append(\"t\")\n",
        "\n",
        "print(Y_pred, prob_c_list[0:3])\n",
        "print(Y_pred, prob_list[0:3])\n",
        "print(Y_pred, Y_pred_brob)\n",
        "print(Y_pred, np.max(Y_pred_brob, axis = 1))"
      ],
      "metadata": {
        "colab": {
          "base_uri": "https://localhost:8080/"
        },
        "id": "lJSfh0H7X8kc",
        "outputId": "80a7e3ec-cbc7-4615-82e8-9756fdcadf3c"
      },
      "execution_count": 9,
      "outputs": [
        {
          "output_type": "stream",
          "name": "stdout",
          "text": [
            "['b' 'b' 'e' ... 'b' 'e' 'b'] ['b', 'b', 'e']\n",
            "['b' 'b' 'e' ... 'b' 'e' 'b'] [0.8576222511524064, 0.14243009111482513, 0.7295377154153154]\n",
            "['b' 'b' 'e' ... 'b' 'e' 'b'] [[0.85762225 0.06380823 0.02266841 0.05590111]\n",
            " [0.41226521 0.35987692 0.08542778 0.14243009]\n",
            " [0.10329711 0.72953772 0.07780898 0.08935619]\n",
            " ...\n",
            " [0.94956571 0.03243336 0.00600649 0.01199444]\n",
            " [0.04219972 0.90392276 0.01980498 0.03407253]\n",
            " [0.79822017 0.14309935 0.03516409 0.0235164 ]]\n",
            "['b' 'b' 'e' ... 'b' 'e' 'b'] [0.85762225 0.41226521 0.72953772 ... 0.94956571 0.90392276 0.79822017]\n"
          ]
        }
      ]
    },
    {
      "cell_type": "code",
      "source": [
        "#第6章 54\n",
        "from sklearn.metrics import confusion_matrix, accuracy_score, precision_score, recall_score, f1_score\n",
        "print('accuracy = ', accuracy_score(train['CATEGORY'], prob_c_train_list))\n",
        "print('accuracy = ', accuracy_score(test['CATEGORY'], prob_c_list))"
      ],
      "metadata": {
        "colab": {
          "base_uri": "https://localhost:8080/"
        },
        "id": "GS2EFq-Rdg-Q",
        "outputId": "318bd2dd-0a78-48f9-d51a-55d94be8cd69"
      },
      "execution_count": 11,
      "outputs": [
        {
          "output_type": "stream",
          "name": "stdout",
          "text": [
            "accuracy =  0.9473388305847077\n",
            "accuracy =  0.8920539730134932\n"
          ]
        }
      ]
    },
    {
      "cell_type": "code",
      "source": [
        "#第6章 55\n",
        "print('confusion matrix = \\n', confusion_matrix(train['CATEGORY'], prob_c_train_list))\n",
        "print('confusion matrix = \\n', confusion_matrix(test['CATEGORY'], prob_c_list))"
      ],
      "metadata": {
        "colab": {
          "base_uri": "https://localhost:8080/"
        },
        "id": "O1GdqAf3ajUg",
        "outputId": "9f5374e8-b71f-495c-fa0d-9e9d67114684"
      },
      "execution_count": 12,
      "outputs": [
        {
          "output_type": "stream",
          "name": "stdout",
          "text": [
            "confusion matrix = \n",
            " [[4403   51    2   29]\n",
            " [  18 4209    0    3]\n",
            " [  76  126  502    6]\n",
            " [ 144  106    1  996]]\n",
            "confusion matrix = \n",
            " [[552  26   1  11]\n",
            " [  6 518   0   2]\n",
            " [ 12  27  43   6]\n",
            " [ 28  25   0  77]]\n"
          ]
        }
      ]
    },
    {
      "cell_type": "code",
      "source": [
        "#第6章 56\n",
        "print([\"b\", \"e\", \"m\", \"t\"])\n",
        "print('precision = ', precision_score(test['CATEGORY'], prob_c_list, average=None, labels=['b', 'e', 't', 'm']))\n",
        "print('pre_macro_ave = ', precision_score(test['CATEGORY'], prob_c_list, average=\"macro\", labels=['b', 'e', 't', 'm']))\n",
        "print('pre_micro_ave = ', precision_score(test['CATEGORY'], prob_c_list, average=\"micro\", labels=['b', 'e', 't', 'm']))\n",
        "print('recall = ', recall_score(test['CATEGORY'], prob_c_list, average=None, labels=['b', 'e', 't', 'm']))\n",
        "print('rec_macro_ave = ', recall_score(test['CATEGORY'], prob_c_list, average=\"macro\", labels=['b', 'e', 't', 'm']))\n",
        "print('rec_micro_ave = ', recall_score(test['CATEGORY'], prob_c_list, average=\"micro\", labels=['b', 'e', 't', 'm']))\n",
        "print('f1 score = ', f1_score(test['CATEGORY'], prob_c_list, average=None, labels=['b', 'e', 't', 'm']))\n",
        "print('f1_macro_ave = ', f1_score(test['CATEGORY'], prob_c_list, average=\"macro\", labels=['b', 'e', 't', 'm']))\n",
        "print('f1_micro_ave = ',f1_score(test['CATEGORY'], prob_c_list, average=\"micro\", labels=['b', 'e', 't', 'm']))"
      ],
      "metadata": {
        "colab": {
          "base_uri": "https://localhost:8080/"
        },
        "id": "VvxiS5ax4wpf",
        "outputId": "30f5f4e4-4ee1-440c-b276-6724aba5faea"
      },
      "execution_count": 22,
      "outputs": [
        {
          "output_type": "stream",
          "name": "stdout",
          "text": [
            "['b', 'e', 'm', 't']\n",
            "precision =  [0.92307692 0.86912752 0.80208333 0.97727273]\n",
            "pre_macro_ave =  0.8928901251153769\n",
            "pre_micro_ave =  0.8920539730134932\n",
            "recall =  [0.93559322 0.98479087 0.59230769 0.48863636]\n",
            "rec_macro_ave =  0.7503320377019385\n",
            "rec_micro_ave =  0.8920539730134932\n",
            "f1 score =  [0.92929293 0.92335116 0.68141593 0.65151515]\n",
            "f1_macro_ave =  0.7963937921642243\n",
            "f1_micro_ave =  0.8920539730134932\n"
          ]
        }
      ]
    },
    {
      "cell_type": "code",
      "source": [
        "print(lr.coef_)\n",
        "for i in lr.coef:\n",
        "  for j in i:\n",
        "    \n"
      ],
      "metadata": {
        "id": "rVlyGPFFDLCB",
        "colab": {
          "base_uri": "https://localhost:8080/"
        },
        "outputId": "550e7e45-6918-4a54-e2f1-c82197627a98"
      },
      "execution_count": 136,
      "outputs": [
        {
          "output_type": "stream",
          "name": "stdout",
          "text": [
            "[[ 0.18890023 -0.00521476  0.0759617  ...  0.          0.\n",
            "   0.        ]\n",
            " [-0.12117326  0.0092919  -0.04749099 ...  0.          0.\n",
            "   0.        ]\n",
            " [-0.03219806 -0.00150973 -0.01265478 ...  0.          0.\n",
            "   0.        ]\n",
            " [-0.03552891 -0.00256741 -0.01581593 ...  0.          0.\n",
            "   0.        ]]\n"
          ]
        }
      ]
    },
    {
      "cell_type": "code",
      "source": [
        ""
      ],
      "metadata": {
        "id": "ZnMGFD9NFHe5"
      },
      "execution_count": null,
      "outputs": []
    },
    {
      "cell_type": "code",
      "source": [
        "!pip install matplotlib"
      ],
      "metadata": {
        "colab": {
          "base_uri": "https://localhost:8080/"
        },
        "id": "vXO5VyXYFHoN",
        "outputId": "99f1d681-a853-406c-9ad5-f28ae0ad3370"
      },
      "execution_count": 24,
      "outputs": [
        {
          "output_type": "stream",
          "name": "stdout",
          "text": [
            "Looking in indexes: https://pypi.org/simple, https://us-python.pkg.dev/colab-wheels/public/simple/\n",
            "Requirement already satisfied: matplotlib in /usr/local/lib/python3.7/dist-packages (3.2.2)\n",
            "Requirement already satisfied: cycler>=0.10 in /usr/local/lib/python3.7/dist-packages (from matplotlib) (0.11.0)\n",
            "Requirement already satisfied: kiwisolver>=1.0.1 in /usr/local/lib/python3.7/dist-packages (from matplotlib) (1.4.2)\n",
            "Requirement already satisfied: numpy>=1.11 in /usr/local/lib/python3.7/dist-packages (from matplotlib) (1.21.6)\n",
            "Requirement already satisfied: python-dateutil>=2.1 in /usr/local/lib/python3.7/dist-packages (from matplotlib) (2.8.2)\n",
            "Requirement already satisfied: pyparsing!=2.0.4,!=2.1.2,!=2.1.6,>=2.0.1 in /usr/local/lib/python3.7/dist-packages (from matplotlib) (3.0.9)\n",
            "Requirement already satisfied: typing-extensions in /usr/local/lib/python3.7/dist-packages (from kiwisolver>=1.0.1->matplotlib) (4.2.0)\n",
            "Requirement already satisfied: six>=1.5 in /usr/local/lib/python3.7/dist-packages (from python-dateutil>=2.1->matplotlib) (1.15.0)\n"
          ]
        }
      ]
    },
    {
      "cell_type": "code",
      "source": [
        "#第6章 58\n",
        "import matplotlib.pyplot as plt\n",
        "c_list = [0.0001, 0.001, 0.01, 0.1, 1, 10, 100, 1000, 10000]\n",
        "accuracy_list = []\n",
        "for C in c_list:\n",
        "  lr = LogisticRegression(C=float(C))\n",
        "  lr.fit(train_l, train[\"CATEGORY\"])\n",
        "  Y_pred = lr.predict(train_l)\n",
        "  Y_pred_brob = lr.predict_proba(train_l)\n",
        "  train_re = train.reset_index(drop=True)\n",
        "  index = 0\n",
        "  prob_train_list = []\n",
        "  for i in Y_pred_brob:\n",
        "    if train_re.at[train_re.index[index], \"CATEGORY\"] == \"b\":\n",
        "      prob_train_list.append(i[0])\n",
        "    elif train_re.at[train_re.index[index], \"CATEGORY\"] == \"e\":\n",
        "      prob_train_list.append(i[1])\n",
        "    elif train_re.at[train_re.index[index], \"CATEGORY\"] == \"m\":\n",
        "      prob_train_list.append(i[2])\n",
        "    else:\n",
        "      prob_train_list.append(i[3])\n",
        "    index += 1\n",
        "\n",
        "  prob_c_train_list = []\n",
        "  for i in Y_pred_brob:\n",
        "    if np.max(i) == i[0]:\n",
        "      prob_c_train_list.append(\"b\")\n",
        "    elif np.max(i) == i[1]:\n",
        "      prob_c_train_list.append(\"e\")\n",
        "    elif np.max(i) == i[2]:\n",
        "      prob_c_train_list.append(\"m\")\n",
        "    else:\n",
        "      prob_c_train_list.append(\"t\")\n",
        " \n",
        "  accuracy_list.append(accuracy_score(train['CATEGORY'], prob_c_train_list))\n",
        "print(c_list, accuracy_list)  \n",
        "plt.plot(c_list, accuracy_list)\n",
        "plt.show"
      ],
      "metadata": {
        "colab": {
          "base_uri": "https://localhost:8080/",
          "height": 898
        },
        "id": "5dxyEe5NbOC2",
        "outputId": "b7ad747f-d498-434a-a17a-f49dbc929ac2"
      },
      "execution_count": 40,
      "outputs": [
        {
          "output_type": "stream",
          "name": "stderr",
          "text": [
            "/usr/local/lib/python3.7/dist-packages/sklearn/linear_model/_logistic.py:818: ConvergenceWarning: lbfgs failed to converge (status=1):\n",
            "STOP: TOTAL NO. of ITERATIONS REACHED LIMIT.\n",
            "\n",
            "Increase the number of iterations (max_iter) or scale the data as shown in:\n",
            "    https://scikit-learn.org/stable/modules/preprocessing.html\n",
            "Please also refer to the documentation for alternative solver options:\n",
            "    https://scikit-learn.org/stable/modules/linear_model.html#logistic-regression\n",
            "  extra_warning_msg=_LOGISTIC_SOLVER_CONVERGENCE_MSG,\n",
            "/usr/local/lib/python3.7/dist-packages/sklearn/linear_model/_logistic.py:818: ConvergenceWarning: lbfgs failed to converge (status=1):\n",
            "STOP: TOTAL NO. of ITERATIONS REACHED LIMIT.\n",
            "\n",
            "Increase the number of iterations (max_iter) or scale the data as shown in:\n",
            "    https://scikit-learn.org/stable/modules/preprocessing.html\n",
            "Please also refer to the documentation for alternative solver options:\n",
            "    https://scikit-learn.org/stable/modules/linear_model.html#logistic-regression\n",
            "  extra_warning_msg=_LOGISTIC_SOLVER_CONVERGENCE_MSG,\n",
            "/usr/local/lib/python3.7/dist-packages/sklearn/linear_model/_logistic.py:818: ConvergenceWarning: lbfgs failed to converge (status=1):\n",
            "STOP: TOTAL NO. of ITERATIONS REACHED LIMIT.\n",
            "\n",
            "Increase the number of iterations (max_iter) or scale the data as shown in:\n",
            "    https://scikit-learn.org/stable/modules/preprocessing.html\n",
            "Please also refer to the documentation for alternative solver options:\n",
            "    https://scikit-learn.org/stable/modules/linear_model.html#logistic-regression\n",
            "  extra_warning_msg=_LOGISTIC_SOLVER_CONVERGENCE_MSG,\n",
            "/usr/local/lib/python3.7/dist-packages/sklearn/linear_model/_logistic.py:818: ConvergenceWarning: lbfgs failed to converge (status=1):\n",
            "STOP: TOTAL NO. of ITERATIONS REACHED LIMIT.\n",
            "\n",
            "Increase the number of iterations (max_iter) or scale the data as shown in:\n",
            "    https://scikit-learn.org/stable/modules/preprocessing.html\n",
            "Please also refer to the documentation for alternative solver options:\n",
            "    https://scikit-learn.org/stable/modules/linear_model.html#logistic-regression\n",
            "  extra_warning_msg=_LOGISTIC_SOLVER_CONVERGENCE_MSG,\n"
          ]
        },
        {
          "output_type": "stream",
          "name": "stdout",
          "text": [
            "[0.0001, 0.001, 0.01, 0.1, 1, 10, 100, 1000, 10000] [0.4202586206896552, 0.4393740629685157, 0.7657421289355323, 0.7921664167916042, 0.9473388305847077, 0.9981259370314842, 0.9992503748125937, 0.9993440779610195, 0.9993440779610195]\n"
          ]
        },
        {
          "output_type": "execute_result",
          "data": {
            "text/plain": [
              "<function matplotlib.pyplot.show>"
            ]
          },
          "metadata": {},
          "execution_count": 40
        },
        {
          "output_type": "display_data",
          "data": {
            "text/plain": [
              "<Figure size 432x288 with 1 Axes>"
            ],
            "image/png": "[encoded data removed]"
          },
          "metadata": {
            "needs_background": "light"
          }
        }
      ]
    },
    {
      "cell_type": "code",
      "source": [
        "import matplotlib.pyplot as plt\n",
        "x = [0.0001, 0.001, 0.01, 0.1, 1, 10, 100, 1000, 10000] \n",
        "y = [0.4202586206896552, 0.4393740629685157, 0.7657421289355323, 0.7921664167916042, 0.9473388305847077, 0.9981259370314842, 0.9992503748125937, 0.9993440779610195, 0.9993440779610195] \n",
        "plt.plot(x, y)\n",
        "plt.xscale ('log')\n",
        "plt.show"
      ],
      "metadata": {
        "colab": {
          "base_uri": "https://localhost:8080/",
          "height": 287
        },
        "id": "3tM0gFekirbw",
        "outputId": "35b66937-fac8-4ef7-d77c-42fe09a65c8a"
      },
      "execution_count": 42,
      "outputs": [
        {
          "output_type": "execute_result",
          "data": {
            "text/plain": [
              "<function matplotlib.pyplot.show>"
            ]
          },
          "metadata": {},
          "execution_count": 42
        },
        {
          "output_type": "display_data",
          "data": {
            "text/plain": [
              "<Figure size 432x288 with 1 Axes>"
            ],
            "image/png": "[encoded data removed]"
          },
          "metadata": {
            "needs_background": "light"
          }
        }
      ]
    },
    {
      "cell_type": "code",
      "source": [
        "c_list = [0.0001, 0.001, 0.01, 0.1, 1, 10, 100, 1000, 10000]\n",
        "accuracy_list = []\n",
        "for C in c_list:\n",
        "  lr = LogisticRegression(C=float(C))\n",
        "  lr.fit(train_l, train[\"CATEGORY\"])\n",
        "  Y_pred = lr.predict(valid_l)\n",
        "  Y_pred_brob = lr.predict_proba(valid_l)\n",
        "  valid_re = valid.reset_index(drop=True)\n",
        "  index = 0\n",
        "  prob_valid_list = []\n",
        "  for i in Y_pred_brob:\n",
        "    if valid_re.at[valid_re.index[index], \"CATEGORY\"] == \"b\":\n",
        "      prob_valid_list.append(i[0])\n",
        "    elif valid_re.at[valid_re.index[index], \"CATEGORY\"] == \"e\":\n",
        "      prob_valid_list.append(i[1])\n",
        "    elif valid_re.at[valid_re.index[index], \"CATEGORY\"] == \"m\":\n",
        "      prob_valid_list.append(i[2])\n",
        "    else:\n",
        "      prob_valid_list.append(i[3])\n",
        "    index += 1\n",
        "\n",
        "  prob_c_valid_list = []\n",
        "  for i in Y_pred_brob:\n",
        "    if np.max(i) == i[0]:\n",
        "      prob_c_valid_list.append(\"b\")\n",
        "    elif np.max(i) == i[1]:\n",
        "      prob_c_valid_list.append(\"e\")\n",
        "    elif np.max(i) == i[2]:\n",
        "      prob_c_valid_list.append(\"m\")\n",
        "    else:\n",
        "      prob_c_valid_list.append(\"t\")\n",
        " \n",
        "  accuracy_list.append(accuracy_score(valid['CATEGORY'], prob_c_valid_list))\n",
        "print(c_list, accuracy_list)\n",
        "plt.xscale ('log')  \n",
        "plt.plot(c_list, accuracy_list)\n",
        "plt.show"
      ],
      "metadata": {
        "colab": {
          "base_uri": "https://localhost:8080/",
          "height": 902
        },
        "id": "RK2Uz1qIaQyB",
        "outputId": "217e173c-5d53-462d-fe21-d249caf719d6"
      },
      "execution_count": 45,
      "outputs": [
        {
          "output_type": "stream",
          "name": "stderr",
          "text": [
            "/usr/local/lib/python3.7/dist-packages/sklearn/linear_model/_logistic.py:818: ConvergenceWarning: lbfgs failed to converge (status=1):\n",
            "STOP: TOTAL NO. of ITERATIONS REACHED LIMIT.\n",
            "\n",
            "Increase the number of iterations (max_iter) or scale the data as shown in:\n",
            "    https://scikit-learn.org/stable/modules/preprocessing.html\n",
            "Please also refer to the documentation for alternative solver options:\n",
            "    https://scikit-learn.org/stable/modules/linear_model.html#logistic-regression\n",
            "  extra_warning_msg=_LOGISTIC_SOLVER_CONVERGENCE_MSG,\n",
            "/usr/local/lib/python3.7/dist-packages/sklearn/linear_model/_logistic.py:818: ConvergenceWarning: lbfgs failed to converge (status=1):\n",
            "STOP: TOTAL NO. of ITERATIONS REACHED LIMIT.\n",
            "\n",
            "Increase the number of iterations (max_iter) or scale the data as shown in:\n",
            "    https://scikit-learn.org/stable/modules/preprocessing.html\n",
            "Please also refer to the documentation for alternative solver options:\n",
            "    https://scikit-learn.org/stable/modules/linear_model.html#logistic-regression\n",
            "  extra_warning_msg=_LOGISTIC_SOLVER_CONVERGENCE_MSG,\n",
            "/usr/local/lib/python3.7/dist-packages/sklearn/linear_model/_logistic.py:818: ConvergenceWarning: lbfgs failed to converge (status=1):\n",
            "STOP: TOTAL NO. of ITERATIONS REACHED LIMIT.\n",
            "\n",
            "Increase the number of iterations (max_iter) or scale the data as shown in:\n",
            "    https://scikit-learn.org/stable/modules/preprocessing.html\n",
            "Please also refer to the documentation for alternative solver options:\n",
            "    https://scikit-learn.org/stable/modules/linear_model.html#logistic-regression\n",
            "  extra_warning_msg=_LOGISTIC_SOLVER_CONVERGENCE_MSG,\n",
            "/usr/local/lib/python3.7/dist-packages/sklearn/linear_model/_logistic.py:818: ConvergenceWarning: lbfgs failed to converge (status=1):\n",
            "STOP: TOTAL NO. of ITERATIONS REACHED LIMIT.\n",
            "\n",
            "Increase the number of iterations (max_iter) or scale the data as shown in:\n",
            "    https://scikit-learn.org/stable/modules/preprocessing.html\n",
            "Please also refer to the documentation for alternative solver options:\n",
            "    https://scikit-learn.org/stable/modules/linear_model.html#logistic-regression\n",
            "  extra_warning_msg=_LOGISTIC_SOLVER_CONVERGENCE_MSG,\n"
          ]
        },
        {
          "output_type": "stream",
          "name": "stdout",
          "text": [
            "[0.0001, 0.001, 0.01, 0.1, 1, 10, 100, 1000, 10000] [0.41379310344827586, 0.43778110944527737, 0.7361319340329835, 0.7556221889055472, 0.8740629685157422, 0.9010494752623688, 0.904047976011994, 0.8995502248875562, 0.8973013493253373]\n"
          ]
        },
        {
          "output_type": "execute_result",
          "data": {
            "text/plain": [
              "<function matplotlib.pyplot.show>"
            ]
          },
          "metadata": {},
          "execution_count": 45
        },
        {
          "output_type": "display_data",
          "data": {
            "text/plain": [
              "<Figure size 432x288 with 1 Axes>"
            ],
            "image/png": "[encoded data removed]"
          },
          "metadata": {
            "needs_background": "light"
          }
        }
      ]
    },
    {
      "cell_type": "code",
      "source": [
        "c_list = [0.0001, 0.001, 0.01, 0.1, 1, 10, 100, 1000, 10000]\n",
        "accuracy_list = []\n",
        "for C in c_list:\n",
        "  lr = LogisticRegression(C=float(C))\n",
        "  lr.fit(train_l, train[\"CATEGORY\"])\n",
        "  Y_pred = lr.predict(test_l)\n",
        "  Y_pred_brob = lr.predict_proba(test_l)\n",
        "  test_re = test.reset_index(drop=True)\n",
        "  index = 0\n",
        "  prob_test_list = []\n",
        "  for i in Y_pred_brob:\n",
        "    if test_re.at[test_re.index[index], \"CATEGORY\"] == \"b\":\n",
        "      prob_test_list.append(i[0])\n",
        "    elif test_re.at[test_re.index[index], \"CATEGORY\"] == \"e\":\n",
        "      prob_test_list.append(i[1])\n",
        "    elif test_re.at[test_re.index[index], \"CATEGORY\"] == \"m\":\n",
        "      prob_test_list.append(i[2])\n",
        "    else:\n",
        "      prob_test_list.append(i[3])\n",
        "    index += 1\n",
        "\n",
        "  prob_c_test_list = []\n",
        "  for i in Y_pred_brob:\n",
        "    if np.max(i) == i[0]:\n",
        "      prob_c_test_list.append(\"b\")\n",
        "    elif np.max(i) == i[1]:\n",
        "      prob_c_test_list.append(\"e\")\n",
        "    elif np.max(i) == i[2]:\n",
        "      prob_c_test_list.append(\"m\")\n",
        "    else:\n",
        "      prob_c_test_list.append(\"t\")\n",
        " \n",
        "  accuracy_list.append(accuracy_score(test['CATEGORY'], prob_c_test_list))\n",
        "print(c_list, accuracy_list)\n",
        "plt.xscale ('log')  \n",
        "plt.plot(c_list, accuracy_list)\n",
        "plt.show"
      ],
      "metadata": {
        "colab": {
          "base_uri": "https://localhost:8080/",
          "height": 902
        },
        "id": "t_J0MFLmDLLd",
        "outputId": "e2a0dd81-3e52-45f2-e50f-f291096e366c"
      },
      "execution_count": 47,
      "outputs": [
        {
          "output_type": "stream",
          "name": "stderr",
          "text": [
            "/usr/local/lib/python3.7/dist-packages/sklearn/linear_model/_logistic.py:818: ConvergenceWarning: lbfgs failed to converge (status=1):\n",
            "STOP: TOTAL NO. of ITERATIONS REACHED LIMIT.\n",
            "\n",
            "Increase the number of iterations (max_iter) or scale the data as shown in:\n",
            "    https://scikit-learn.org/stable/modules/preprocessing.html\n",
            "Please also refer to the documentation for alternative solver options:\n",
            "    https://scikit-learn.org/stable/modules/linear_model.html#logistic-regression\n",
            "  extra_warning_msg=_LOGISTIC_SOLVER_CONVERGENCE_MSG,\n",
            "/usr/local/lib/python3.7/dist-packages/sklearn/linear_model/_logistic.py:818: ConvergenceWarning: lbfgs failed to converge (status=1):\n",
            "STOP: TOTAL NO. of ITERATIONS REACHED LIMIT.\n",
            "\n",
            "Increase the number of iterations (max_iter) or scale the data as shown in:\n",
            "    https://scikit-learn.org/stable/modules/preprocessing.html\n",
            "Please also refer to the documentation for alternative solver options:\n",
            "    https://scikit-learn.org/stable/modules/linear_model.html#logistic-regression\n",
            "  extra_warning_msg=_LOGISTIC_SOLVER_CONVERGENCE_MSG,\n",
            "/usr/local/lib/python3.7/dist-packages/sklearn/linear_model/_logistic.py:818: ConvergenceWarning: lbfgs failed to converge (status=1):\n",
            "STOP: TOTAL NO. of ITERATIONS REACHED LIMIT.\n",
            "\n",
            "Increase the number of iterations (max_iter) or scale the data as shown in:\n",
            "    https://scikit-learn.org/stable/modules/preprocessing.html\n",
            "Please also refer to the documentation for alternative solver options:\n",
            "    https://scikit-learn.org/stable/modules/linear_model.html#logistic-regression\n",
            "  extra_warning_msg=_LOGISTIC_SOLVER_CONVERGENCE_MSG,\n",
            "/usr/local/lib/python3.7/dist-packages/sklearn/linear_model/_logistic.py:818: ConvergenceWarning: lbfgs failed to converge (status=1):\n",
            "STOP: TOTAL NO. of ITERATIONS REACHED LIMIT.\n",
            "\n",
            "Increase the number of iterations (max_iter) or scale the data as shown in:\n",
            "    https://scikit-learn.org/stable/modules/preprocessing.html\n",
            "Please also refer to the documentation for alternative solver options:\n",
            "    https://scikit-learn.org/stable/modules/linear_model.html#logistic-regression\n",
            "  extra_warning_msg=_LOGISTIC_SOLVER_CONVERGENCE_MSG,\n"
          ]
        },
        {
          "output_type": "stream",
          "name": "stdout",
          "text": [
            "[0.0001, 0.001, 0.01, 0.1, 1, 10, 100, 1000, 10000] [0.44227886056971516, 0.46551724137931033, 0.7691154422788605, 0.802848575712144, 0.8920539730134932, 0.9145427286356822, 0.9130434782608695, 0.9107946026986506, 0.9115442278860569]\n"
          ]
        },
        {
          "output_type": "execute_result",
          "data": {
            "text/plain": [
              "<function matplotlib.pyplot.show>"
            ]
          },
          "metadata": {},
          "execution_count": 47
        },
        {
          "output_type": "display_data",
          "data": {
            "text/plain": [
              "<Figure size 432x288 with 1 Axes>"
            ],
            "image/png": "[encoded data removed]"
          },
          "metadata": {
            "needs_background": "light"
          }
        }
      ]
    },
    {
      "cell_type": "code",
      "source": [
        ""
      ],
      "metadata": {
        "id": "iybXoAw3r8hN"
      },
      "execution_count": null,
      "outputs": []
    }
  ]
}